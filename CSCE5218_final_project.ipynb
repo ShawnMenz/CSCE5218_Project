{
 "cells": [
  {
   "cell_type": "markdown",
   "id": "8afb4831-8e26-45dc-95d5-0b0fc2b57122",
   "metadata": {},
   "source": [
    "## Basic Settings"
   ]
  },
  {
   "cell_type": "markdown",
   "id": "6d8dc72d-e652-427b-a1a1-45bbf351a29a",
   "metadata": {},
   "source": [
    "**Since our dataset is large, we use 3 machines to run different proportions of datasets (1%, 10%, 50% and 100%).**\n",
    "\n",
    "For our 1% dataset, it takes about 12 minutes for training on our machines.\n",
    "\n",
    "For our 10% dataset, it takes about 2 hours for training on our machines.\n",
    "\n",
    "For our half dataset (50%), it takes about 11 hours for training on our machines.\n",
    "\n",
    "For our full dataset (100%), it takes about 18 hours for training on our machines.\n",
    "\n",
    "### Hardware settings\n",
    "\n",
    "2 Desktops with:\n",
    "* CPU: 13th Gen Intel(R) Core(TM) i9-13900KF\n",
    "* RAM: 32 GB\n",
    "* GPU: NVIDIA GeForce RTX 4090 (VRAM 24 GB)\n",
    "\n",
    "1 Server with:\n",
    "* CPU: Intel Xeon w5-3435\n",
    "* RAM: 128 GB\n",
    "* GPU: 2 x NVIDIA RTX A5500 (VRAM 24 GB each)"
   ]
  },
  {
   "cell_type": "markdown",
   "id": "5d4035b4-9eec-4bc2-8911-92b7f4d42699",
   "metadata": {},
   "source": [
    "The GPU allocation in byte and percentage. We can see that it takes about 24 GB (full work load) during the entire training process.\n",
    "<img src=\"./figures/gpu_byte.png\" alt=\"drawing\" width=\"800\"/>\n",
    "<img src=\"./figures/gpu_percentage.png\" alt=\"drawing\" width=\"800\"/>"
   ]
  },
  {
   "cell_type": "code",
   "execution_count": 1,
   "id": "0e238d57-5ac4-4b0e-9217-097fa960a2df",
   "metadata": {},
   "outputs": [
    {
     "name": "stdout",
     "output_type": "stream",
     "text": [
      "Done downloading libraries\n"
     ]
    }
   ],
   "source": [
    "# Download libraries\n",
    "! pip install torch wandb transformers -q\n",
    "! pip install -U datasets -q\n",
    "! pip install accelerate -U -q\n",
    "print(\"Done downloading libraries\")"
   ]
  },
  {
   "cell_type": "code",
   "execution_count": 2,
   "id": "85d149e6-e3f1-408a-8075-266d5f637823",
   "metadata": {},
   "outputs": [
    {
     "name": "stderr",
     "output_type": "stream",
     "text": [
      "/home/UNT/zm0166/anaconda3/lib/python3.11/site-packages/tqdm/auto.py:21: TqdmWarning: IProgress not found. Please update jupyter and ipywidgets. See https://ipywidgets.readthedocs.io/en/stable/user_install.html\n",
      "  from .autonotebook import tqdm as notebook_tqdm\n"
     ]
    }
   ],
   "source": [
    "import torch\n",
    "import warnings\n",
    "import pickle\n",
    "import numpy as np\n",
    "import tqdm\n",
    "\n",
    "from datasets import load_dataset\n",
    "from transformers import (\n",
    "    RobertaForSequenceClassification, \n",
    "    Trainer, \n",
    "    TrainingArguments,\n",
    "    RobertaTokenizer,\n",
    "    pipeline\n",
    ")"
   ]
  },
  {
   "cell_type": "code",
   "execution_count": 3,
   "id": "d4157767-d385-49b1-ba16-eef5eae994c5",
   "metadata": {},
   "outputs": [
    {
     "name": "stdout",
     "output_type": "stream",
     "text": [
      "Using cuda device\n"
     ]
    }
   ],
   "source": [
    "# Environment setting\n",
    "warnings.filterwarnings(\"ignore\")\n",
    "torch.cuda.empty_cache()\n",
    "# getting device for training\n",
    "device = (\n",
    "    \"cuda\"\n",
    "    if torch.cuda.is_available()\n",
    "    else \"mps\"\n",
    "    if torch.backends.mps.is_available()\n",
    "    else \"cpu\"\n",
    ")\n",
    "print(f\"Using {device} device\")"
   ]
  },
  {
   "cell_type": "code",
   "execution_count": 4,
   "id": "3173f377-27f1-4713-8f5f-787676263eb4",
   "metadata": {},
   "outputs": [],
   "source": [
    "# Paths\n",
    "dataset_name = \"yelp_review_full\"\n",
    "dataset_save_path = \"data/datasets\"\n",
    "pkl_save_path = \"./data/pkl\"\n",
    "pretrained_model_path = \"./pretrained_models/model\"\n",
    "pretrained_tokenizer_path = \"./pretrained_models/tokenizer\"\n",
    "saved_model_path = \"./yelp_sentiment_model\"\n",
    "finetuned_model = \"./finetuned_model\"\n",
    "output_dir = \"./outputs\"\n",
    "model_id = \"roberta-base\""
   ]
  },
  {
   "cell_type": "markdown",
   "id": "5d59cc90-ef7d-47bc-a6c8-52dd602c9df8",
   "metadata": {},
   "source": [
    "## Process data"
   ]
  },
  {
   "cell_type": "code",
   "execution_count": 5,
   "id": "989d5dd3-3f7c-497a-8c46-381a938939c3",
   "metadata": {},
   "outputs": [],
   "source": [
    "### 1. Load the dataset\n",
    "dataset = load_dataset(\n",
    "    dataset_name,\n",
    "    cache_dir=dataset_save_path\n",
    ")"
   ]
  },
  {
   "cell_type": "code",
   "execution_count": 6,
   "id": "d9a52728-2bca-4857-94a9-428914c60698",
   "metadata": {},
   "outputs": [],
   "source": [
    "### 2. Load the tokenizer\n",
    "# tokenizer\n",
    "tokenizer = RobertaTokenizer.from_pretrained(\n",
    "    model_id,\n",
    "    cache_dir=pretrained_tokenizer_path,\n",
    "    trust_remote_code=True,\n",
    ")"
   ]
  },
  {
   "cell_type": "code",
   "execution_count": 7,
   "id": "a5e1cc1d-6096-42f2-a7b0-88370c87a0a1",
   "metadata": {},
   "outputs": [],
   "source": [
    "### 3. Preprocess the dataset\n",
    "def tokenize_function(examples):\n",
    "    return tokenizer(examples[\"text\"], padding=\"max_length\", truncation=True)\n",
    "\n",
    "tokenized_datasets = dataset.map(tokenize_function, batched=True)"
   ]
  },
  {
   "cell_type": "code",
   "execution_count": 8,
   "id": "8f222172-0492-4522-a44b-db32980b9579",
   "metadata": {},
   "outputs": [],
   "source": [
    "### 4. Save the tokenized datasets\n",
    "with open(pkl_save_path, 'wb') as file:\n",
    "    pickle.dump(tokenized_datasets, file)"
   ]
  },
  {
   "cell_type": "markdown",
   "id": "98743cf7-59bf-4ff6-a81b-933e744d0caf",
   "metadata": {},
   "source": [
    "## Fine-tune RoBERTa"
   ]
  },
  {
   "cell_type": "code",
   "execution_count": 9,
   "id": "e0f6ccfa-c70f-45d7-8720-002f669794c5",
   "metadata": {},
   "outputs": [
    {
     "name": "stderr",
     "output_type": "stream",
     "text": [
      "The argument `trust_remote_code` is to be used with Auto classes. It has no effect here and is ignored.\n",
      "Some weights of RobertaForSequenceClassification were not initialized from the model checkpoint at roberta-base and are newly initialized: ['classifier.dense.bias', 'classifier.dense.weight', 'classifier.out_proj.bias', 'classifier.out_proj.weight']\n",
      "You should probably TRAIN this model on a down-stream task to be able to use it for predictions and inference.\n"
     ]
    }
   ],
   "source": [
    "### 1. Load the model\n",
    "# model\n",
    "model = RobertaForSequenceClassification.from_pretrained(\n",
    "    model_id, \n",
    "    num_labels=5,\n",
    "    cache_dir=pretrained_model_path, \n",
    "    trust_remote_code=True\n",
    ")"
   ]
  },
  {
   "cell_type": "code",
   "execution_count": 10,
   "id": "aeb9c2e0-9f32-4bf4-a1c1-e4f0892c1e31",
   "metadata": {},
   "outputs": [],
   "source": [
    "###### 2. Load datasets\n",
    "with open(pkl_save_path, 'rb') as file:\n",
    "    tokenized_datasets = pickle.load(file)\n",
    "\n",
    "# Slice the dataset to use only 1% of it\n",
    "def slice_dataset(dataset):\n",
    "    indices = np.random.permutation(len(dataset))\n",
    "    subset_size = len(dataset) // 100  # 1% of the dataset\n",
    "    subset_indices = indices[:subset_size]\n",
    "    return dataset.select(subset_indices)\n",
    "\n",
    "# Apply slicing to both train and test datasets\n",
    "sliced_datasets = {split: slice_dataset(tokenized_datasets[split]) for split in tokenized_datasets.keys()}"
   ]
  },
  {
   "cell_type": "code",
   "execution_count": 11,
   "id": "df89cf47-9a65-4cf2-b452-697915947f30",
   "metadata": {},
   "outputs": [],
   "source": [
    "### 3. Training preparation\n",
    "# training arguments\n",
    "training_args = TrainingArguments(\n",
    "    output_dir=output_dir,\n",
    "    auto_find_batch_size=True,    # Evita CUDA Out-of-Memory errors.\n",
    "    evaluation_strategy=\"epoch\",  # Evaluate at the end of each epoch\n",
    "    save_strategy=\"epoch\",        # Save at the end of each epoch\n",
    "    learning_rate=1e-05,\n",
    "    per_device_train_batch_size=16,\n",
    "    num_train_epochs=5,\n",
    "    weight_decay=0.01,\n",
    "    load_best_model_at_end=True,\n",
    "    metric_for_best_model=\"accuracy\",\n",
    "    lr_scheduler_type = \"linear\",\n",
    "    report_to=\"none\"\n",
    ")\n",
    "\n",
    "\n",
    "# trainer\n",
    "trainer = Trainer(\n",
    "    model=model,\n",
    "    args=training_args,\n",
    "    train_dataset=sliced_datasets[\"train\"],\n",
    "    eval_dataset=sliced_datasets[\"test\"],\n",
    "    compute_metrics=lambda eval_pred: {\n",
    "        \"accuracy\": ((eval_pred[0].argmax(-1) == eval_pred[1]).mean()).item()\n",
    "    }\n",
    ")"
   ]
  },
  {
   "cell_type": "code",
   "execution_count": 12,
   "id": "603b7628-e45e-4d9c-80d2-6b6cbf42be00",
   "metadata": {},
   "outputs": [
    {
     "data": {
      "text/html": [
       "\n",
       "    <div>\n",
       "      \n",
       "      <progress value='2035' max='2035' style='width:300px; height:20px; vertical-align: middle;'></progress>\n",
       "      [2035/2035 06:55, Epoch 5/5]\n",
       "    </div>\n",
       "    <table border=\"1\" class=\"dataframe\">\n",
       "  <thead>\n",
       " <tr style=\"text-align: left;\">\n",
       "      <th>Epoch</th>\n",
       "      <th>Training Loss</th>\n",
       "      <th>Validation Loss</th>\n",
       "      <th>Accuracy</th>\n",
       "    </tr>\n",
       "  </thead>\n",
       "  <tbody>\n",
       "    <tr>\n",
       "      <td>1</td>\n",
       "      <td>No log</td>\n",
       "      <td>0.902748</td>\n",
       "      <td>0.616000</td>\n",
       "    </tr>\n",
       "    <tr>\n",
       "      <td>2</td>\n",
       "      <td>1.001300</td>\n",
       "      <td>0.833609</td>\n",
       "      <td>0.638000</td>\n",
       "    </tr>\n",
       "    <tr>\n",
       "      <td>3</td>\n",
       "      <td>0.719800</td>\n",
       "      <td>0.836921</td>\n",
       "      <td>0.642000</td>\n",
       "    </tr>\n",
       "    <tr>\n",
       "      <td>4</td>\n",
       "      <td>0.603200</td>\n",
       "      <td>0.895575</td>\n",
       "      <td>0.652000</td>\n",
       "    </tr>\n",
       "    <tr>\n",
       "      <td>5</td>\n",
       "      <td>0.519000</td>\n",
       "      <td>0.889430</td>\n",
       "      <td>0.640000</td>\n",
       "    </tr>\n",
       "  </tbody>\n",
       "</table><p>"
      ],
      "text/plain": [
       "<IPython.core.display.HTML object>"
      ]
     },
     "metadata": {},
     "output_type": "display_data"
    },
    {
     "data": {
      "text/plain": [
       "('./yelp_sentiment_model/tokenizer_config.json',\n",
       " './yelp_sentiment_model/special_tokens_map.json',\n",
       " './yelp_sentiment_model/vocab.json',\n",
       " './yelp_sentiment_model/merges.txt',\n",
       " './yelp_sentiment_model/added_tokens.json')"
      ]
     },
     "execution_count": 12,
     "metadata": {},
     "output_type": "execute_result"
    }
   ],
   "source": [
    "### 4. Training & save the model\n",
    "trainer.train()\n",
    "\n",
    "model.save_pretrained(saved_model_path)\n",
    "tokenizer.save_pretrained(saved_model_path)"
   ]
  },
  {
   "cell_type": "markdown",
   "id": "59ba10c9-367a-4414-b243-a2644b816969",
   "metadata": {},
   "source": [
    "## Inference\n",
    "\n",
    "If you don't like to run the training process, we provide a way to inference on our fine-tuned models on Hugging Face Hub."
   ]
  },
  {
   "cell_type": "code",
   "execution_count": 13,
   "id": "bc18ac3b-921c-4b77-bfec-4e456025e7e9",
   "metadata": {},
   "outputs": [
    {
     "name": "stderr",
     "output_type": "stream",
     "text": [
      "Some weights of RobertaForSequenceClassification were not initialized from the model checkpoint at roberta-base and are newly initialized: ['classifier.dense.bias', 'classifier.dense.weight', 'classifier.out_proj.bias', 'classifier.out_proj.weight']\n",
      "You should probably TRAIN this model on a down-stream task to be able to use it for predictions and inference.\n",
      "Truncation was not explicitly activated but `max_length` is provided a specific value, please use `truncation=True` to explicitly truncate examples to max length. Defaulting to 'longest_first' truncation strategy. If you encode pairs of sequences (GLUE-style) with the tokenizer you can select this strategy more precisely by providing a specific strategy to `truncation`.\n"
     ]
    },
    {
     "name": "stdout",
     "output_type": "stream",
     "text": [
      "Base Model Metrics:\n",
      "Accuracy: 17.80%, Precision: 21.71%, Recall: 49.72%, F1-score: 30.22%\n"
     ]
    }
   ],
   "source": [
    "# baseline model\n",
    "total_length = len(sliced_datasets[\"test\"])\n",
    "\n",
    "# Load baseline model (RoBERTa without fine-tuning)\n",
    "base_classifier = pipeline(\"sentiment-analysis\", model_id, max_length=512)\n",
    "base_TP = base_FP = base_FN = 0\n",
    "\n",
    "# Calculate metrics on test dataset\n",
    "for item in sliced_datasets[\"test\"]:\n",
    "    truth = int(item['label'])\n",
    "    \n",
    "    # Prediction of baseline model\n",
    "    base_result = int(base_classifier(item['text'])[0]['label'][-1])\n",
    "    if base_result == truth:\n",
    "        base_TP += 1\n",
    "    elif base_result == 1:\n",
    "        base_FP += 1\n",
    "    else:\n",
    "        base_FN += 1\n",
    "\n",
    "# Calculate accuracy, precision, recall, and F1-score\n",
    "def calculate_metrics(TP, FP, FN):\n",
    "    accuracy = TP / total_length\n",
    "    precision = TP / (TP + FP) if TP + FP > 0 else 0\n",
    "    recall = TP / (TP + FN) if TP + FN > 0 else 0\n",
    "    f1_score = 2 * (precision * recall) / (precision + recall) if precision + recall > 0 else 0\n",
    "    return accuracy, precision, recall, f1_score\n",
    "\n",
    "base_metrics = calculate_metrics(base_TP, base_FP, base_FN)\n",
    "\n",
    "print(\"Base Model Metrics:\\nAccuracy: {:.2%}, Precision: {:.2%}, Recall: {:.2%}, F1-score: {:.2%}\".format(*base_metrics))"
   ]
  },
  {
   "cell_type": "code",
   "execution_count": 14,
   "id": "70a33b7a-2c6d-4841-99a4-a117bcde8e63",
   "metadata": {},
   "outputs": [
    {
     "name": "stderr",
     "output_type": "stream",
     "text": [
      "Truncation was not explicitly activated but `max_length` is provided a specific value, please use `truncation=True` to explicitly truncate examples to max length. Defaulting to 'longest_first' truncation strategy. If you encode pairs of sequences (GLUE-style) with the tokenizer you can select this strategy more precisely by providing a specific strategy to `truncation`.\n"
     ]
    },
    {
     "name": "stdout",
     "output_type": "stream",
     "text": [
      "Fine-tuned Model (1% dataset) Metrics:\n",
      "Accuracy: 65.00%, Precision: 90.03%, Recall: 70.04%, F1-score: 78.79%\n"
     ]
    }
   ],
   "source": [
    "# fine-tuned model on 1% dataset\n",
    "total_length = len(sliced_datasets[\"test\"])\n",
    "\n",
    "# Choose the fine-tuned model you would like to run\n",
    "repository_id = \"HanzhiZhang/CSCE5218_01percent\"\n",
    "\n",
    "# Load fine-tuned model\n",
    "finetuned_classifier = pipeline(\"sentiment-analysis\", repository_id, max_length=512)\n",
    "finetuned_TP = finetuned_FP = finetuned_FN = 0\n",
    "\n",
    "# Calculate metrics on test dataset\n",
    "for item in sliced_datasets[\"test\"]:\n",
    "    truth = int(item['label'])\n",
    "    \n",
    "    # Prediction of fine-tuned model\n",
    "    finetuned_result = int(finetuned_classifier(item['text'])[0]['label'][-1])\n",
    "    if finetuned_result == truth:\n",
    "        finetuned_TP += 1\n",
    "    elif finetuned_result == 1:\n",
    "        finetuned_FP += 1\n",
    "    else:\n",
    "        finetuned_FN += 1\n",
    "\n",
    "finetuned_metrics = calculate_metrics(finetuned_TP, finetuned_FP, finetuned_FN)\n",
    "\n",
    "print(\"Fine-tuned Model (1% dataset) Metrics:\\nAccuracy: {:.2%}, Precision: {:.2%}, Recall: {:.2%}, F1-score: {:.2%}\".format(*finetuned_metrics))"
   ]
  },
  {
   "cell_type": "code",
   "execution_count": 15,
   "id": "11a453cb-63ab-4969-9b65-74f929360eca",
   "metadata": {},
   "outputs": [
    {
     "name": "stderr",
     "output_type": "stream",
     "text": [
      "Truncation was not explicitly activated but `max_length` is provided a specific value, please use `truncation=True` to explicitly truncate examples to max length. Defaulting to 'longest_first' truncation strategy. If you encode pairs of sequences (GLUE-style) with the tokenizer you can select this strategy more precisely by providing a specific strategy to `truncation`.\n"
     ]
    },
    {
     "name": "stdout",
     "output_type": "stream",
     "text": [
      "Fine-tuned Model (10% dataset) Metrics:\n",
      "Accuracy: 71.20%, Precision: 90.82%, Recall: 76.72%, F1-score: 83.18%\n"
     ]
    }
   ],
   "source": [
    "# fine-tuned model on 10% dataset\n",
    "total_length = len(sliced_datasets[\"test\"])\n",
    "\n",
    "# Choose the fine-tuned model you would like to run\n",
    "repository_id = \"HanzhiZhang/CSCE5218_10percent\"\n",
    "\n",
    "# Load fine-tuned model\n",
    "finetuned_classifier = pipeline(\"sentiment-analysis\", repository_id, max_length=512)\n",
    "finetuned_TP = finetuned_FP = finetuned_FN = 0\n",
    "\n",
    "# Calculate metrics on test dataset\n",
    "for item in sliced_datasets[\"test\"]:\n",
    "    truth = int(item['label'])\n",
    "    \n",
    "    # Prediction of fine-tuned model\n",
    "    finetuned_result = int(finetuned_classifier(item['text'])[0]['label'][-1])\n",
    "    if finetuned_result == truth:\n",
    "        finetuned_TP += 1\n",
    "    elif finetuned_result == 1:\n",
    "        finetuned_FP += 1\n",
    "    else:\n",
    "        finetuned_FN += 1\n",
    "\n",
    "finetuned_metrics = calculate_metrics(finetuned_TP, finetuned_FP, finetuned_FN)\n",
    "\n",
    "print(\"Fine-tuned Model (10% dataset) Metrics:\\nAccuracy: {:.2%}, Precision: {:.2%}, Recall: {:.2%}, F1-score: {:.2%}\".format(*finetuned_metrics))"
   ]
  },
  {
   "cell_type": "code",
   "execution_count": 16,
   "id": "5d03b85d-e092-4fa9-a937-83cd7df1e514",
   "metadata": {},
   "outputs": [
    {
     "name": "stderr",
     "output_type": "stream",
     "text": [
      "Truncation was not explicitly activated but `max_length` is provided a specific value, please use `truncation=True` to explicitly truncate examples to max length. Defaulting to 'longest_first' truncation strategy. If you encode pairs of sequences (GLUE-style) with the tokenizer you can select this strategy more precisely by providing a specific strategy to `truncation`.\n"
     ]
    },
    {
     "name": "stdout",
     "output_type": "stream",
     "text": [
      "Fine-tuned Model (50% dataset) Metrics:\n",
      "Accuracy: 73.00%, Precision: 92.17%, Recall: 77.83%, F1-score: 84.39%\n"
     ]
    }
   ],
   "source": [
    "# fine-tuned model on 50% dataset\n",
    "total_length = len(sliced_datasets[\"test\"])\n",
    "\n",
    "# Choose the fine-tuned model you would like to run\n",
    "repository_id = \"HanzhiZhang/CSCE5218_50percent\"\n",
    "\n",
    "# Load fine-tuned model\n",
    "finetuned_classifier = pipeline(\"sentiment-analysis\", repository_id, max_length=512)\n",
    "finetuned_TP = finetuned_FP = finetuned_FN = 0\n",
    "\n",
    "# Calculate metrics on test dataset\n",
    "for item in sliced_datasets[\"test\"]:\n",
    "    truth = int(item['label'])\n",
    "    \n",
    "    # Prediction of fine-tuned model\n",
    "    finetuned_result = int(finetuned_classifier(item['text'])[0]['label'][-1])\n",
    "    if finetuned_result == truth:\n",
    "        finetuned_TP += 1\n",
    "    elif finetuned_result == 1:\n",
    "        finetuned_FP += 1\n",
    "    else:\n",
    "        finetuned_FN += 1\n",
    "\n",
    "finetuned_metrics = calculate_metrics(finetuned_TP, finetuned_FP, finetuned_FN)\n",
    "\n",
    "print(\"Fine-tuned Model (50% dataset) Metrics:\\nAccuracy: {:.2%}, Precision: {:.2%}, Recall: {:.2%}, F1-score: {:.2%}\".format(*finetuned_metrics))"
   ]
  },
  {
   "cell_type": "code",
   "execution_count": 17,
   "id": "ba776f41-cdba-4eda-b747-c21db6f3e70a",
   "metadata": {},
   "outputs": [
    {
     "name": "stderr",
     "output_type": "stream",
     "text": [
      "Truncation was not explicitly activated but `max_length` is provided a specific value, please use `truncation=True` to explicitly truncate examples to max length. Defaulting to 'longest_first' truncation strategy. If you encode pairs of sequences (GLUE-style) with the tokenizer you can select this strategy more precisely by providing a specific strategy to `truncation`.\n"
     ]
    },
    {
     "name": "stdout",
     "output_type": "stream",
     "text": [
      "Fine-tuned Model (100% dataset) Metrics:\n",
      "Accuracy: 75.40%, Precision: 91.73%, Recall: 80.90%, F1-score: 85.97%\n"
     ]
    }
   ],
   "source": [
    "# fine-tuned model on 100% dataset\n",
    "total_length = len(sliced_datasets[\"test\"])\n",
    "\n",
    "# Choose the fine-tuned model you would like to run\n",
    "repository_id = \"HanzhiZhang/CSCE5218_100percent\"\n",
    "\n",
    "# Load fine-tuned model\n",
    "finetuned_classifier = pipeline(\"sentiment-analysis\", repository_id, max_length=512)\n",
    "finetuned_TP = finetuned_FP = finetuned_FN = 0\n",
    "\n",
    "# Calculate metrics on test dataset\n",
    "for item in sliced_datasets[\"test\"]:\n",
    "    truth = int(item['label'])\n",
    "    \n",
    "    # Prediction of fine-tuned model\n",
    "    finetuned_result = int(finetuned_classifier(item['text'])[0]['label'][-1])\n",
    "    if finetuned_result == truth:\n",
    "        finetuned_TP += 1\n",
    "    elif finetuned_result == 1:\n",
    "        finetuned_FP += 1\n",
    "    else:\n",
    "        finetuned_FN += 1\n",
    "\n",
    "finetuned_metrics = calculate_metrics(finetuned_TP, finetuned_FP, finetuned_FN)\n",
    "\n",
    "print(\"Fine-tuned Model (100% dataset) Metrics:\\nAccuracy: {:.2%}, Precision: {:.2%}, Recall: {:.2%}, F1-score: {:.2%}\".format(*finetuned_metrics))"
   ]
  },
  {
   "cell_type": "code",
   "execution_count": null,
   "id": "98c6e43a-16dc-4f15-aa43-b53e22a33c6e",
   "metadata": {},
   "outputs": [],
   "source": []
  }
 ],
 "metadata": {
  "kernelspec": {
   "display_name": "Python 3 (ipykernel)",
   "language": "python",
   "name": "python3"
  },
  "language_info": {
   "codemirror_mode": {
    "name": "ipython",
    "version": 3
   },
   "file_extension": ".py",
   "mimetype": "text/x-python",
   "name": "python",
   "nbconvert_exporter": "python",
   "pygments_lexer": "ipython3",
   "version": "3.11.7"
  }
 },
 "nbformat": 4,
 "nbformat_minor": 5
}
